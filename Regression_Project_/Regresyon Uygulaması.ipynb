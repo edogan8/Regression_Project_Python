{
 "cells": [
  {
   "cell_type": "markdown",
   "id": "b29df7fc",
   "metadata": {},
   "source": [
    "# House Price dataset of India : Regression"
   ]
  },
  {
   "cell_type": "markdown",
   "id": "e3d6d45d",
   "metadata": {},
   "source": [
    "İlk olarak gerekli kütüphaneleri içe aktaralım."
   ]
  },
  {
   "cell_type": "code",
   "execution_count": 1,
   "id": "1aa8b9a0",
   "metadata": {},
   "outputs": [],
   "source": [
    "import numpy as np\n",
    "import pandas as pd\n",
    "import seaborn as sbn\n",
    "import matplotlib.pyplot as plt\n",
    "import statsmodels.api as sm\n",
    "\n",
    "from sklearn.model_selection import train_test_split\n",
    "from sklearn.metrics import mean_squared_error, r2_score\n",
    "from sklearn.neighbors import KNeighborsRegressor\n",
    "from sklearn.linear_model import LinearRegression\n",
    "from sklearn.metrics import mean_absolute_percentage_error\n",
    "from sklearn.preprocessing import scale\n",
    "from sklearn.decomposition import PCA\n",
    "from sklearn import model_selection\n",
    "from sklearn.model_selection import KFold\n",
    "from sklearn.cross_decomposition import PLSRegression\n",
    "from sklearn.model_selection import cross_val_predict\n",
    "from sklearn.linear_model import Ridge\n",
    "from sklearn.linear_model import Lasso\n",
    "from sklearn.linear_model import LassoCV\n",
    "from sklearn.model_selection import GridSearchCV\n",
    "from sklearn.svm import SVR\n",
    "from sklearn.preprocessing import StandardScaler\n",
    "from sklearn.neural_network import MLPRegressor\n",
    "from sklearn.tree import DecisionTreeRegressor\n",
    "from sklearn.ensemble import RandomForestRegressor\n",
    "from sklearn.ensemble import GradientBoostingRegressor\n",
    "import xgboost as xgb\n",
    "from xgboost import XGBRFRegressor\n",
    "\n",
    "import warnings\n",
    "warnings.filterwarnings('ignore')"
   ]
  },
  {
   "cell_type": "markdown",
   "id": "387b4cee",
   "metadata": {},
   "source": [
    "Verimizi çekelim."
   ]
  },
  {
   "cell_type": "code",
   "execution_count": 2,
   "id": "213e11ef",
   "metadata": {},
   "outputs": [],
   "source": [
    "df = pd.read_csv(\"C:/Users/emird/OneDrive/Masaüstü/YEDEKLE/Veri Madenciligi/House Price India.csv\") "
   ]
  },
  {
   "cell_type": "code",
   "execution_count": 3,
   "id": "6a53696b",
   "metadata": {
    "scrolled": false
   },
   "outputs": [
    {
     "data": {
      "text/html": [
       "<div>\n",
       "<style scoped>\n",
       "    .dataframe tbody tr th:only-of-type {\n",
       "        vertical-align: middle;\n",
       "    }\n",
       "\n",
       "    .dataframe tbody tr th {\n",
       "        vertical-align: top;\n",
       "    }\n",
       "\n",
       "    .dataframe thead th {\n",
       "        text-align: right;\n",
       "    }\n",
       "</style>\n",
       "<table border=\"1\" class=\"dataframe\">\n",
       "  <thead>\n",
       "    <tr style=\"text-align: right;\">\n",
       "      <th></th>\n",
       "      <th>id</th>\n",
       "      <th>Date</th>\n",
       "      <th>number of bedrooms</th>\n",
       "      <th>number of bathrooms</th>\n",
       "      <th>living area</th>\n",
       "      <th>lot area</th>\n",
       "      <th>number of floors</th>\n",
       "      <th>waterfront present</th>\n",
       "      <th>number of views</th>\n",
       "      <th>condition of the house</th>\n",
       "      <th>...</th>\n",
       "      <th>Built Year</th>\n",
       "      <th>Renovation Year</th>\n",
       "      <th>Postal Code</th>\n",
       "      <th>Lattitude</th>\n",
       "      <th>Longitude</th>\n",
       "      <th>living_area_renov</th>\n",
       "      <th>lot_area_renov</th>\n",
       "      <th>Number of schools nearby</th>\n",
       "      <th>Distance from the airport</th>\n",
       "      <th>Price</th>\n",
       "    </tr>\n",
       "  </thead>\n",
       "  <tbody>\n",
       "    <tr>\n",
       "      <th>0</th>\n",
       "      <td>6762810145</td>\n",
       "      <td>42491</td>\n",
       "      <td>5</td>\n",
       "      <td>2.50</td>\n",
       "      <td>3650</td>\n",
       "      <td>9050</td>\n",
       "      <td>2.0</td>\n",
       "      <td>0</td>\n",
       "      <td>4</td>\n",
       "      <td>5</td>\n",
       "      <td>...</td>\n",
       "      <td>1921</td>\n",
       "      <td>0</td>\n",
       "      <td>122003</td>\n",
       "      <td>52.8645</td>\n",
       "      <td>-114.557</td>\n",
       "      <td>2880</td>\n",
       "      <td>5400</td>\n",
       "      <td>2</td>\n",
       "      <td>58</td>\n",
       "      <td>2380000</td>\n",
       "    </tr>\n",
       "    <tr>\n",
       "      <th>1</th>\n",
       "      <td>6762810635</td>\n",
       "      <td>42491</td>\n",
       "      <td>4</td>\n",
       "      <td>2.50</td>\n",
       "      <td>2920</td>\n",
       "      <td>4000</td>\n",
       "      <td>1.5</td>\n",
       "      <td>0</td>\n",
       "      <td>0</td>\n",
       "      <td>5</td>\n",
       "      <td>...</td>\n",
       "      <td>1909</td>\n",
       "      <td>0</td>\n",
       "      <td>122004</td>\n",
       "      <td>52.8878</td>\n",
       "      <td>-114.470</td>\n",
       "      <td>2470</td>\n",
       "      <td>4000</td>\n",
       "      <td>2</td>\n",
       "      <td>51</td>\n",
       "      <td>1400000</td>\n",
       "    </tr>\n",
       "    <tr>\n",
       "      <th>2</th>\n",
       "      <td>6762810998</td>\n",
       "      <td>42491</td>\n",
       "      <td>5</td>\n",
       "      <td>2.75</td>\n",
       "      <td>2910</td>\n",
       "      <td>9480</td>\n",
       "      <td>1.5</td>\n",
       "      <td>0</td>\n",
       "      <td>0</td>\n",
       "      <td>3</td>\n",
       "      <td>...</td>\n",
       "      <td>1939</td>\n",
       "      <td>0</td>\n",
       "      <td>122004</td>\n",
       "      <td>52.8852</td>\n",
       "      <td>-114.468</td>\n",
       "      <td>2940</td>\n",
       "      <td>6600</td>\n",
       "      <td>1</td>\n",
       "      <td>53</td>\n",
       "      <td>1200000</td>\n",
       "    </tr>\n",
       "    <tr>\n",
       "      <th>3</th>\n",
       "      <td>6762812605</td>\n",
       "      <td>42491</td>\n",
       "      <td>4</td>\n",
       "      <td>2.50</td>\n",
       "      <td>3310</td>\n",
       "      <td>42998</td>\n",
       "      <td>2.0</td>\n",
       "      <td>0</td>\n",
       "      <td>0</td>\n",
       "      <td>3</td>\n",
       "      <td>...</td>\n",
       "      <td>2001</td>\n",
       "      <td>0</td>\n",
       "      <td>122005</td>\n",
       "      <td>52.9532</td>\n",
       "      <td>-114.321</td>\n",
       "      <td>3350</td>\n",
       "      <td>42847</td>\n",
       "      <td>3</td>\n",
       "      <td>76</td>\n",
       "      <td>838000</td>\n",
       "    </tr>\n",
       "    <tr>\n",
       "      <th>4</th>\n",
       "      <td>6762812919</td>\n",
       "      <td>42491</td>\n",
       "      <td>3</td>\n",
       "      <td>2.00</td>\n",
       "      <td>2710</td>\n",
       "      <td>4500</td>\n",
       "      <td>1.5</td>\n",
       "      <td>0</td>\n",
       "      <td>0</td>\n",
       "      <td>4</td>\n",
       "      <td>...</td>\n",
       "      <td>1929</td>\n",
       "      <td>0</td>\n",
       "      <td>122006</td>\n",
       "      <td>52.9047</td>\n",
       "      <td>-114.485</td>\n",
       "      <td>2060</td>\n",
       "      <td>4500</td>\n",
       "      <td>1</td>\n",
       "      <td>51</td>\n",
       "      <td>805000</td>\n",
       "    </tr>\n",
       "  </tbody>\n",
       "</table>\n",
       "<p>5 rows × 23 columns</p>\n",
       "</div>"
      ],
      "text/plain": [
       "           id   Date  number of bedrooms  number of bathrooms  living area  \\\n",
       "0  6762810145  42491                   5                 2.50         3650   \n",
       "1  6762810635  42491                   4                 2.50         2920   \n",
       "2  6762810998  42491                   5                 2.75         2910   \n",
       "3  6762812605  42491                   4                 2.50         3310   \n",
       "4  6762812919  42491                   3                 2.00         2710   \n",
       "\n",
       "   lot area  number of floors  waterfront present  number of views  \\\n",
       "0      9050               2.0                   0                4   \n",
       "1      4000               1.5                   0                0   \n",
       "2      9480               1.5                   0                0   \n",
       "3     42998               2.0                   0                0   \n",
       "4      4500               1.5                   0                0   \n",
       "\n",
       "   condition of the house  ...  Built Year  Renovation Year  Postal Code  \\\n",
       "0                       5  ...        1921                0       122003   \n",
       "1                       5  ...        1909                0       122004   \n",
       "2                       3  ...        1939                0       122004   \n",
       "3                       3  ...        2001                0       122005   \n",
       "4                       4  ...        1929                0       122006   \n",
       "\n",
       "   Lattitude  Longitude  living_area_renov  lot_area_renov  \\\n",
       "0    52.8645   -114.557               2880            5400   \n",
       "1    52.8878   -114.470               2470            4000   \n",
       "2    52.8852   -114.468               2940            6600   \n",
       "3    52.9532   -114.321               3350           42847   \n",
       "4    52.9047   -114.485               2060            4500   \n",
       "\n",
       "   Number of schools nearby  Distance from the airport    Price  \n",
       "0                         2                         58  2380000  \n",
       "1                         2                         51  1400000  \n",
       "2                         1                         53  1200000  \n",
       "3                         3                         76   838000  \n",
       "4                         1                         51   805000  \n",
       "\n",
       "[5 rows x 23 columns]"
      ]
     },
     "execution_count": 3,
     "metadata": {},
     "output_type": "execute_result"
    }
   ],
   "source": [
    "df.head()"
   ]
  },
  {
   "cell_type": "code",
   "execution_count": 4,
   "id": "0344044c",
   "metadata": {
    "scrolled": false
   },
   "outputs": [
    {
     "data": {
      "text/plain": [
       "Index(['id', 'Date', 'number of bedrooms', 'number of bathrooms',\n",
       "       'living area', 'lot area', 'number of floors', 'waterfront present',\n",
       "       'number of views', 'condition of the house', 'grade of the house',\n",
       "       'Area of the house(excluding basement)', 'Area of the basement',\n",
       "       'Built Year', 'Renovation Year', 'Postal Code', 'Lattitude',\n",
       "       'Longitude', 'living_area_renov', 'lot_area_renov',\n",
       "       'Number of schools nearby', 'Distance from the airport', 'Price'],\n",
       "      dtype='object')"
      ]
     },
     "execution_count": 4,
     "metadata": {},
     "output_type": "execute_result"
    }
   ],
   "source": [
    "df.columns"
   ]
  },
  {
   "cell_type": "markdown",
   "id": "b295d003",
   "metadata": {},
   "source": [
    "* id : id değerleri\n",
    "\n",
    "* Date : tarih değerleri\n",
    "\n",
    "* number of bedrooms : yatak oda sayısı\n",
    "\n",
    "* number of bathrooms : banyo sayısı\n",
    "\n",
    "* living area : oturma odası alanı (m^2)\n",
    "\n",
    "* lot area : arsa alanı\n",
    "\n",
    "* number of floors : kat sayısı ... gibi değişkenlerimiz verimizde mevcutur."
   ]
  },
  {
   "cell_type": "markdown",
   "id": "232c0f55",
   "metadata": {},
   "source": [
    "Tanımlayıcı istatistiklerine bakacak olursak :"
   ]
  },
  {
   "cell_type": "code",
   "execution_count": 5,
   "id": "1c459492",
   "metadata": {
    "scrolled": true
   },
   "outputs": [
    {
     "data": {
      "text/html": [
       "<div>\n",
       "<style scoped>\n",
       "    .dataframe tbody tr th:only-of-type {\n",
       "        vertical-align: middle;\n",
       "    }\n",
       "\n",
       "    .dataframe tbody tr th {\n",
       "        vertical-align: top;\n",
       "    }\n",
       "\n",
       "    .dataframe thead th {\n",
       "        text-align: right;\n",
       "    }\n",
       "</style>\n",
       "<table border=\"1\" class=\"dataframe\">\n",
       "  <thead>\n",
       "    <tr style=\"text-align: right;\">\n",
       "      <th></th>\n",
       "      <th>count</th>\n",
       "      <th>mean</th>\n",
       "      <th>std</th>\n",
       "      <th>min</th>\n",
       "      <th>25%</th>\n",
       "      <th>50%</th>\n",
       "      <th>75%</th>\n",
       "      <th>max</th>\n",
       "    </tr>\n",
       "  </thead>\n",
       "  <tbody>\n",
       "    <tr>\n",
       "      <th>id</th>\n",
       "      <td>14620.0</td>\n",
       "      <td>6.762821e+09</td>\n",
       "      <td>6237.574799</td>\n",
       "      <td>6.762810e+09</td>\n",
       "      <td>6.762815e+09</td>\n",
       "      <td>6.762821e+09</td>\n",
       "      <td>6.762826e+09</td>\n",
       "      <td>6.762832e+09</td>\n",
       "    </tr>\n",
       "    <tr>\n",
       "      <th>Date</th>\n",
       "      <td>14620.0</td>\n",
       "      <td>4.260454e+04</td>\n",
       "      <td>67.347991</td>\n",
       "      <td>4.249100e+04</td>\n",
       "      <td>4.254600e+04</td>\n",
       "      <td>4.260000e+04</td>\n",
       "      <td>4.266200e+04</td>\n",
       "      <td>4.273400e+04</td>\n",
       "    </tr>\n",
       "    <tr>\n",
       "      <th>number of bedrooms</th>\n",
       "      <td>14620.0</td>\n",
       "      <td>3.379343e+00</td>\n",
       "      <td>0.938719</td>\n",
       "      <td>1.000000e+00</td>\n",
       "      <td>3.000000e+00</td>\n",
       "      <td>3.000000e+00</td>\n",
       "      <td>4.000000e+00</td>\n",
       "      <td>3.300000e+01</td>\n",
       "    </tr>\n",
       "    <tr>\n",
       "      <th>number of bathrooms</th>\n",
       "      <td>14620.0</td>\n",
       "      <td>2.129583e+00</td>\n",
       "      <td>0.769934</td>\n",
       "      <td>5.000000e-01</td>\n",
       "      <td>1.750000e+00</td>\n",
       "      <td>2.250000e+00</td>\n",
       "      <td>2.500000e+00</td>\n",
       "      <td>8.000000e+00</td>\n",
       "    </tr>\n",
       "    <tr>\n",
       "      <th>living area</th>\n",
       "      <td>14620.0</td>\n",
       "      <td>2.098263e+03</td>\n",
       "      <td>928.275721</td>\n",
       "      <td>3.700000e+02</td>\n",
       "      <td>1.440000e+03</td>\n",
       "      <td>1.930000e+03</td>\n",
       "      <td>2.570000e+03</td>\n",
       "      <td>1.354000e+04</td>\n",
       "    </tr>\n",
       "    <tr>\n",
       "      <th>lot area</th>\n",
       "      <td>14620.0</td>\n",
       "      <td>1.509328e+04</td>\n",
       "      <td>37919.621304</td>\n",
       "      <td>5.200000e+02</td>\n",
       "      <td>5.010750e+03</td>\n",
       "      <td>7.620000e+03</td>\n",
       "      <td>1.080000e+04</td>\n",
       "      <td>1.074218e+06</td>\n",
       "    </tr>\n",
       "    <tr>\n",
       "      <th>number of floors</th>\n",
       "      <td>14620.0</td>\n",
       "      <td>1.502360e+00</td>\n",
       "      <td>0.540239</td>\n",
       "      <td>1.000000e+00</td>\n",
       "      <td>1.000000e+00</td>\n",
       "      <td>1.500000e+00</td>\n",
       "      <td>2.000000e+00</td>\n",
       "      <td>3.500000e+00</td>\n",
       "    </tr>\n",
       "    <tr>\n",
       "      <th>waterfront present</th>\n",
       "      <td>14620.0</td>\n",
       "      <td>7.660739e-03</td>\n",
       "      <td>0.087193</td>\n",
       "      <td>0.000000e+00</td>\n",
       "      <td>0.000000e+00</td>\n",
       "      <td>0.000000e+00</td>\n",
       "      <td>0.000000e+00</td>\n",
       "      <td>1.000000e+00</td>\n",
       "    </tr>\n",
       "    <tr>\n",
       "      <th>number of views</th>\n",
       "      <td>14620.0</td>\n",
       "      <td>2.331053e-01</td>\n",
       "      <td>0.766259</td>\n",
       "      <td>0.000000e+00</td>\n",
       "      <td>0.000000e+00</td>\n",
       "      <td>0.000000e+00</td>\n",
       "      <td>0.000000e+00</td>\n",
       "      <td>4.000000e+00</td>\n",
       "    </tr>\n",
       "    <tr>\n",
       "      <th>condition of the house</th>\n",
       "      <td>14620.0</td>\n",
       "      <td>3.430506e+00</td>\n",
       "      <td>0.664151</td>\n",
       "      <td>1.000000e+00</td>\n",
       "      <td>3.000000e+00</td>\n",
       "      <td>3.000000e+00</td>\n",
       "      <td>4.000000e+00</td>\n",
       "      <td>5.000000e+00</td>\n",
       "    </tr>\n",
       "    <tr>\n",
       "      <th>grade of the house</th>\n",
       "      <td>14620.0</td>\n",
       "      <td>7.682421e+00</td>\n",
       "      <td>1.175033</td>\n",
       "      <td>4.000000e+00</td>\n",
       "      <td>7.000000e+00</td>\n",
       "      <td>7.000000e+00</td>\n",
       "      <td>8.000000e+00</td>\n",
       "      <td>1.300000e+01</td>\n",
       "    </tr>\n",
       "    <tr>\n",
       "      <th>Area of the house(excluding basement)</th>\n",
       "      <td>14620.0</td>\n",
       "      <td>1.801784e+03</td>\n",
       "      <td>833.809963</td>\n",
       "      <td>3.700000e+02</td>\n",
       "      <td>1.200000e+03</td>\n",
       "      <td>1.580000e+03</td>\n",
       "      <td>2.240000e+03</td>\n",
       "      <td>9.410000e+03</td>\n",
       "    </tr>\n",
       "    <tr>\n",
       "      <th>Area of the basement</th>\n",
       "      <td>14620.0</td>\n",
       "      <td>2.964791e+02</td>\n",
       "      <td>448.551409</td>\n",
       "      <td>0.000000e+00</td>\n",
       "      <td>0.000000e+00</td>\n",
       "      <td>0.000000e+00</td>\n",
       "      <td>5.800000e+02</td>\n",
       "      <td>4.820000e+03</td>\n",
       "    </tr>\n",
       "    <tr>\n",
       "      <th>Built Year</th>\n",
       "      <td>14620.0</td>\n",
       "      <td>1.970926e+03</td>\n",
       "      <td>29.493625</td>\n",
       "      <td>1.900000e+03</td>\n",
       "      <td>1.951000e+03</td>\n",
       "      <td>1.975000e+03</td>\n",
       "      <td>1.997000e+03</td>\n",
       "      <td>2.015000e+03</td>\n",
       "    </tr>\n",
       "    <tr>\n",
       "      <th>Renovation Year</th>\n",
       "      <td>14620.0</td>\n",
       "      <td>9.092401e+01</td>\n",
       "      <td>416.216661</td>\n",
       "      <td>0.000000e+00</td>\n",
       "      <td>0.000000e+00</td>\n",
       "      <td>0.000000e+00</td>\n",
       "      <td>0.000000e+00</td>\n",
       "      <td>2.015000e+03</td>\n",
       "    </tr>\n",
       "    <tr>\n",
       "      <th>Postal Code</th>\n",
       "      <td>14620.0</td>\n",
       "      <td>1.220331e+05</td>\n",
       "      <td>19.082418</td>\n",
       "      <td>1.220030e+05</td>\n",
       "      <td>1.220170e+05</td>\n",
       "      <td>1.220320e+05</td>\n",
       "      <td>1.220480e+05</td>\n",
       "      <td>1.220720e+05</td>\n",
       "    </tr>\n",
       "    <tr>\n",
       "      <th>Lattitude</th>\n",
       "      <td>14620.0</td>\n",
       "      <td>5.279285e+01</td>\n",
       "      <td>0.137522</td>\n",
       "      <td>5.238590e+01</td>\n",
       "      <td>5.270760e+01</td>\n",
       "      <td>5.280640e+01</td>\n",
       "      <td>5.290890e+01</td>\n",
       "      <td>5.300760e+01</td>\n",
       "    </tr>\n",
       "    <tr>\n",
       "      <th>Longitude</th>\n",
       "      <td>14620.0</td>\n",
       "      <td>-1.144040e+02</td>\n",
       "      <td>0.141326</td>\n",
       "      <td>-1.147090e+02</td>\n",
       "      <td>-1.145190e+02</td>\n",
       "      <td>-1.144210e+02</td>\n",
       "      <td>-1.143150e+02</td>\n",
       "      <td>-1.135050e+02</td>\n",
       "    </tr>\n",
       "    <tr>\n",
       "      <th>living_area_renov</th>\n",
       "      <td>14620.0</td>\n",
       "      <td>1.996702e+03</td>\n",
       "      <td>691.093366</td>\n",
       "      <td>4.600000e+02</td>\n",
       "      <td>1.490000e+03</td>\n",
       "      <td>1.850000e+03</td>\n",
       "      <td>2.380000e+03</td>\n",
       "      <td>6.110000e+03</td>\n",
       "    </tr>\n",
       "    <tr>\n",
       "      <th>lot_area_renov</th>\n",
       "      <td>14620.0</td>\n",
       "      <td>1.275350e+04</td>\n",
       "      <td>26058.414467</td>\n",
       "      <td>6.510000e+02</td>\n",
       "      <td>5.097750e+03</td>\n",
       "      <td>7.620000e+03</td>\n",
       "      <td>1.012500e+04</td>\n",
       "      <td>5.606170e+05</td>\n",
       "    </tr>\n",
       "    <tr>\n",
       "      <th>Number of schools nearby</th>\n",
       "      <td>14620.0</td>\n",
       "      <td>2.012244e+00</td>\n",
       "      <td>0.817284</td>\n",
       "      <td>1.000000e+00</td>\n",
       "      <td>1.000000e+00</td>\n",
       "      <td>2.000000e+00</td>\n",
       "      <td>3.000000e+00</td>\n",
       "      <td>3.000000e+00</td>\n",
       "    </tr>\n",
       "    <tr>\n",
       "      <th>Distance from the airport</th>\n",
       "      <td>14620.0</td>\n",
       "      <td>6.495096e+01</td>\n",
       "      <td>8.936008</td>\n",
       "      <td>5.000000e+01</td>\n",
       "      <td>5.700000e+01</td>\n",
       "      <td>6.500000e+01</td>\n",
       "      <td>7.300000e+01</td>\n",
       "      <td>8.000000e+01</td>\n",
       "    </tr>\n",
       "    <tr>\n",
       "      <th>Price</th>\n",
       "      <td>14620.0</td>\n",
       "      <td>5.389322e+05</td>\n",
       "      <td>367532.380804</td>\n",
       "      <td>7.800000e+04</td>\n",
       "      <td>3.200000e+05</td>\n",
       "      <td>4.500000e+05</td>\n",
       "      <td>6.450000e+05</td>\n",
       "      <td>7.700000e+06</td>\n",
       "    </tr>\n",
       "  </tbody>\n",
       "</table>\n",
       "</div>"
      ],
      "text/plain": [
       "                                         count          mean            std  \\\n",
       "id                                     14620.0  6.762821e+09    6237.574799   \n",
       "Date                                   14620.0  4.260454e+04      67.347991   \n",
       "number of bedrooms                     14620.0  3.379343e+00       0.938719   \n",
       "number of bathrooms                    14620.0  2.129583e+00       0.769934   \n",
       "living area                            14620.0  2.098263e+03     928.275721   \n",
       "lot area                               14620.0  1.509328e+04   37919.621304   \n",
       "number of floors                       14620.0  1.502360e+00       0.540239   \n",
       "waterfront present                     14620.0  7.660739e-03       0.087193   \n",
       "number of views                        14620.0  2.331053e-01       0.766259   \n",
       "condition of the house                 14620.0  3.430506e+00       0.664151   \n",
       "grade of the house                     14620.0  7.682421e+00       1.175033   \n",
       "Area of the house(excluding basement)  14620.0  1.801784e+03     833.809963   \n",
       "Area of the basement                   14620.0  2.964791e+02     448.551409   \n",
       "Built Year                             14620.0  1.970926e+03      29.493625   \n",
       "Renovation Year                        14620.0  9.092401e+01     416.216661   \n",
       "Postal Code                            14620.0  1.220331e+05      19.082418   \n",
       "Lattitude                              14620.0  5.279285e+01       0.137522   \n",
       "Longitude                              14620.0 -1.144040e+02       0.141326   \n",
       "living_area_renov                      14620.0  1.996702e+03     691.093366   \n",
       "lot_area_renov                         14620.0  1.275350e+04   26058.414467   \n",
       "Number of schools nearby               14620.0  2.012244e+00       0.817284   \n",
       "Distance from the airport              14620.0  6.495096e+01       8.936008   \n",
       "Price                                  14620.0  5.389322e+05  367532.380804   \n",
       "\n",
       "                                                min           25%  \\\n",
       "id                                     6.762810e+09  6.762815e+09   \n",
       "Date                                   4.249100e+04  4.254600e+04   \n",
       "number of bedrooms                     1.000000e+00  3.000000e+00   \n",
       "number of bathrooms                    5.000000e-01  1.750000e+00   \n",
       "living area                            3.700000e+02  1.440000e+03   \n",
       "lot area                               5.200000e+02  5.010750e+03   \n",
       "number of floors                       1.000000e+00  1.000000e+00   \n",
       "waterfront present                     0.000000e+00  0.000000e+00   \n",
       "number of views                        0.000000e+00  0.000000e+00   \n",
       "condition of the house                 1.000000e+00  3.000000e+00   \n",
       "grade of the house                     4.000000e+00  7.000000e+00   \n",
       "Area of the house(excluding basement)  3.700000e+02  1.200000e+03   \n",
       "Area of the basement                   0.000000e+00  0.000000e+00   \n",
       "Built Year                             1.900000e+03  1.951000e+03   \n",
       "Renovation Year                        0.000000e+00  0.000000e+00   \n",
       "Postal Code                            1.220030e+05  1.220170e+05   \n",
       "Lattitude                              5.238590e+01  5.270760e+01   \n",
       "Longitude                             -1.147090e+02 -1.145190e+02   \n",
       "living_area_renov                      4.600000e+02  1.490000e+03   \n",
       "lot_area_renov                         6.510000e+02  5.097750e+03   \n",
       "Number of schools nearby               1.000000e+00  1.000000e+00   \n",
       "Distance from the airport              5.000000e+01  5.700000e+01   \n",
       "Price                                  7.800000e+04  3.200000e+05   \n",
       "\n",
       "                                                50%           75%  \\\n",
       "id                                     6.762821e+09  6.762826e+09   \n",
       "Date                                   4.260000e+04  4.266200e+04   \n",
       "number of bedrooms                     3.000000e+00  4.000000e+00   \n",
       "number of bathrooms                    2.250000e+00  2.500000e+00   \n",
       "living area                            1.930000e+03  2.570000e+03   \n",
       "lot area                               7.620000e+03  1.080000e+04   \n",
       "number of floors                       1.500000e+00  2.000000e+00   \n",
       "waterfront present                     0.000000e+00  0.000000e+00   \n",
       "number of views                        0.000000e+00  0.000000e+00   \n",
       "condition of the house                 3.000000e+00  4.000000e+00   \n",
       "grade of the house                     7.000000e+00  8.000000e+00   \n",
       "Area of the house(excluding basement)  1.580000e+03  2.240000e+03   \n",
       "Area of the basement                   0.000000e+00  5.800000e+02   \n",
       "Built Year                             1.975000e+03  1.997000e+03   \n",
       "Renovation Year                        0.000000e+00  0.000000e+00   \n",
       "Postal Code                            1.220320e+05  1.220480e+05   \n",
       "Lattitude                              5.280640e+01  5.290890e+01   \n",
       "Longitude                             -1.144210e+02 -1.143150e+02   \n",
       "living_area_renov                      1.850000e+03  2.380000e+03   \n",
       "lot_area_renov                         7.620000e+03  1.012500e+04   \n",
       "Number of schools nearby               2.000000e+00  3.000000e+00   \n",
       "Distance from the airport              6.500000e+01  7.300000e+01   \n",
       "Price                                  4.500000e+05  6.450000e+05   \n",
       "\n",
       "                                                max  \n",
       "id                                     6.762832e+09  \n",
       "Date                                   4.273400e+04  \n",
       "number of bedrooms                     3.300000e+01  \n",
       "number of bathrooms                    8.000000e+00  \n",
       "living area                            1.354000e+04  \n",
       "lot area                               1.074218e+06  \n",
       "number of floors                       3.500000e+00  \n",
       "waterfront present                     1.000000e+00  \n",
       "number of views                        4.000000e+00  \n",
       "condition of the house                 5.000000e+00  \n",
       "grade of the house                     1.300000e+01  \n",
       "Area of the house(excluding basement)  9.410000e+03  \n",
       "Area of the basement                   4.820000e+03  \n",
       "Built Year                             2.015000e+03  \n",
       "Renovation Year                        2.015000e+03  \n",
       "Postal Code                            1.220720e+05  \n",
       "Lattitude                              5.300760e+01  \n",
       "Longitude                             -1.135050e+02  \n",
       "living_area_renov                      6.110000e+03  \n",
       "lot_area_renov                         5.606170e+05  \n",
       "Number of schools nearby               3.000000e+00  \n",
       "Distance from the airport              8.000000e+01  \n",
       "Price                                  7.700000e+06  "
      ]
     },
     "execution_count": 5,
     "metadata": {},
     "output_type": "execute_result"
    }
   ],
   "source": [
    "df.describe().T"
   ]
  },
  {
   "cell_type": "markdown",
   "id": "5ae27278",
   "metadata": {},
   "source": [
    "Peki verimizde eksik gözlem bulunmakta mıdır ?"
   ]
  },
  {
   "cell_type": "code",
   "execution_count": 6,
   "id": "3a0f57a2",
   "metadata": {},
   "outputs": [
    {
     "data": {
      "text/plain": [
       "0"
      ]
     },
     "execution_count": 6,
     "metadata": {},
     "output_type": "execute_result"
    }
   ],
   "source": [
    "df.isnull().any().sum()"
   ]
  },
  {
   "cell_type": "markdown",
   "id": "382e9f53",
   "metadata": {},
   "source": [
    "Bu verisetinin değişkenlerinin dağılımlarına ve değişkenlerin birbirleri\n",
    "arasındaki ilişkiye bakalım."
   ]
  },
  {
   "cell_type": "code",
   "execution_count": 7,
   "id": "efebef5a",
   "metadata": {},
   "outputs": [
    {
     "data": {
      "image/png": "[encoded data removed]",
      "text/plain": [
       "<Figure size 1440x1080 with 23 Axes>"
      ]
     },
     "metadata": {
      "needs_background": "light"
     },
     "output_type": "display_data"
    }
   ],
   "source": [
    "plt.figure(figsize = (20,15))\n",
    "plotnumber = 1\n",
    "\n",
    "for column in df:\n",
    "    if plotnumber <=23:\n",
    "        ax = plt.subplot(5,5,plotnumber)\n",
    "        sbn.distplot(df[column])\n",
    "        plt.xlabel(column)\n",
    "        \n",
    "    plotnumber +=1\n",
    "plt.tight_layout()\n",
    "plt.show()"
   ]
  },
  {
   "cell_type": "code",
   "execution_count": 8,
   "id": "d91a107b",
   "metadata": {
    "scrolled": true
   },
   "outputs": [
    {
     "data": {
      "image/png": "[encoded data removed]",
      "text/plain": [
       "<Figure size 1440x864 with 2 Axes>"
      ]
     },
     "metadata": {
      "needs_background": "light"
     },
     "output_type": "display_data"
    }
   ],
   "source": [
    "plt.figure(figsize = (20,12))\n",
    "\n",
    "corr = df.corr()\n",
    "mask = np.triu(np.ones_like(corr, dtype = bool))\n",
    "\n",
    "sbn.heatmap(corr, mask = mask, linewidths = 1, annot = True, fmt = \".2f\")\n",
    "plt.show()"
   ]
  },
  {
   "cell_type": "code",
   "execution_count": 9,
   "id": "7896333b",
   "metadata": {},
   "outputs": [],
   "source": [
    "y = df[[\"Price\"]]\n",
    "x = df[[\"living area\"]]"
   ]
  },
  {
   "cell_type": "markdown",
   "id": "46c69aa9",
   "metadata": {},
   "source": [
    "# Lineer Regresyon"
   ]
  },
  {
   "cell_type": "markdown",
   "id": "3301f4e6",
   "metadata": {},
   "source": [
    "Bağımlı ve bağımsız verimiz arasındaki saçılım grafiğine bakmak\n",
    "istersek :"
   ]
  },
  {
   "cell_type": "code",
   "execution_count": 10,
   "id": "a9d42fce",
   "metadata": {
    "scrolled": true
   },
   "outputs": [
    {
     "data": {
      "text/plain": [
       "<seaborn.axisgrid.JointGrid at 0x1c5517c3a00>"
      ]
     },
     "execution_count": 10,
     "metadata": {},
     "output_type": "execute_result"
    },
    {
     "data": {
      "image/png": "[encoded data removed]",
      "text/plain": [
       "<Figure size 432x432 with 3 Axes>"
      ]
     },
     "metadata": {
      "needs_background": "light"
     },
     "output_type": "display_data"
    }
   ],
   "source": [
    "sbn.jointplot(x = \"living area\", y = \"Price\", data = df, kind = \"reg\")"
   ]
  },
  {
   "cell_type": "code",
   "execution_count": 11,
   "id": "c039930b",
   "metadata": {},
   "outputs": [],
   "source": [
    "lineer_model = LinearRegression()\n",
    "lineer_model = lineer_model.fit(x,y)"
   ]
  },
  {
   "cell_type": "code",
   "execution_count": 12,
   "id": "c287aa66",
   "metadata": {},
   "outputs": [],
   "source": [
    "lm_pred = lineer_model.predict(x)"
   ]
  },
  {
   "cell_type": "markdown",
   "id": "874baf21",
   "metadata": {},
   "source": [
    "R^2 ve MSE değerlerine bakalım."
   ]
  },
  {
   "cell_type": "code",
   "execution_count": 13,
   "id": "b5666900",
   "metadata": {},
   "outputs": [
    {
     "name": "stdout",
     "output_type": "stream",
     "text": [
      "66564872888.14759 0.5071853635121747\n"
     ]
    }
   ],
   "source": [
    "lineer_model_mse = mean_squared_error(y, lm_pred)\n",
    "lineer_model_r2 = r2_score(y, lm_pred)\n",
    "print(lineer_model_mse, lineer_model_r2)"
   ]
  },
  {
   "cell_type": "markdown",
   "id": "e9c3b09b",
   "metadata": {},
   "source": [
    "Şimdi de çoklu doğrusal regresyon modelleri için verimizi yeniden düzenleyelim ve train, test olarak ayıralım."
   ]
  },
  {
   "cell_type": "code",
   "execution_count": 14,
   "id": "89fed011",
   "metadata": {},
   "outputs": [],
   "source": [
    "y = df[\"Price\"]\n",
    "\n",
    "a = df.drop(\"id\", axis=1)\n",
    "b = a.drop(\"Date\", axis=1)\n",
    "c = b.drop(\"waterfront present\", axis=1)\n",
    "d = c.drop(\"Built Year\", axis=1)\n",
    "e = d.drop(\"Renovation Year\", axis=1)\n",
    "f = e.drop(\"Postal Code\", axis=1)\n",
    "g = f.drop(\"Lattitude\", axis=1)\n",
    "X = g.drop(\"Longitude\", axis=1)"
   ]
  },
  {
   "cell_type": "code",
   "execution_count": 15,
   "id": "1f343cc8",
   "metadata": {},
   "outputs": [],
   "source": [
    "x_train, x_test, y_train, y_test = train_test_split(X, y, test_size=4386,\n",
    "                                                    random_state=0)"
   ]
  },
  {
   "cell_type": "markdown",
   "id": "8d805651",
   "metadata": {},
   "source": [
    "# Çoklu Lineer Regresyon"
   ]
  },
  {
   "cell_type": "code",
   "execution_count": 16,
   "id": "f571948d",
   "metadata": {},
   "outputs": [],
   "source": [
    "coklu_lineer_model = LinearRegression()\n",
    "coklu_lineer_model = coklu_lineer_model.fit(x_train, y_train)"
   ]
  },
  {
   "cell_type": "markdown",
   "id": "74b81f41",
   "metadata": {},
   "source": [
    "Train setimizle tahmin değerlerimiz arasındaki grafiğe bakalım."
   ]
  },
  {
   "cell_type": "code",
   "execution_count": 17,
   "id": "2446d527",
   "metadata": {},
   "outputs": [],
   "source": [
    "clm_fit = coklu_lineer_model.predict(x_train)"
   ]
  },
  {
   "cell_type": "markdown",
   "id": "9d613909",
   "metadata": {},
   "source": [
    "Model performansımıza bakalım."
   ]
  },
  {
   "cell_type": "code",
   "execution_count": 18,
   "id": "45a04c2d",
   "metadata": {},
   "outputs": [
    {
     "name": "stdout",
     "output_type": "stream",
     "text": [
      "2.6645596461009466e-20 1.0\n"
     ]
    }
   ],
   "source": [
    "coklu_lineer_model_train_mse = mean_squared_error(y_train, clm_fit)\n",
    "coklu_lineer_model_train_r2 = r2_score(y_train, clm_fit)\n",
    "print(coklu_lineer_model_train_mse, coklu_lineer_model_train_r2)"
   ]
  },
  {
   "cell_type": "markdown",
   "id": "6309ab98",
   "metadata": {},
   "source": [
    "Tahmin performansımıza bakalım."
   ]
  },
  {
   "cell_type": "code",
   "execution_count": 19,
   "id": "823bb639",
   "metadata": {},
   "outputs": [],
   "source": [
    "clm_pred = coklu_lineer_model.predict(x_test)"
   ]
  },
  {
   "cell_type": "code",
   "execution_count": 20,
   "id": "1a6a77d5",
   "metadata": {},
   "outputs": [
    {
     "name": "stdout",
     "output_type": "stream",
     "text": [
      "2.820681513386259e-20 1.0\n"
     ]
    }
   ],
   "source": [
    "coklu_lineer_model_test_mse = mean_squared_error(y_test, clm_pred)\n",
    "coklu_lineer_model_test_r2 = r2_score(y_test, clm_pred)\n",
    "print(coklu_lineer_model_test_mse, coklu_lineer_model_test_r2)"
   ]
  },
  {
   "cell_type": "markdown",
   "id": "8a1d69dd",
   "metadata": {},
   "source": [
    "Mape değerine bakalım."
   ]
  },
  {
   "cell_type": "code",
   "execution_count": 21,
   "id": "2fe16547",
   "metadata": {},
   "outputs": [
    {
     "name": "stdout",
     "output_type": "stream",
     "text": [
      "2.4715245310504984e-16\n"
     ]
    }
   ],
   "source": [
    "coklu_lineer_model_mape = mean_absolute_percentage_error(y_test, clm_pred)\n",
    "print(coklu_lineer_model_mape)"
   ]
  },
  {
   "cell_type": "markdown",
   "id": "f6431412",
   "metadata": {},
   "source": [
    "# KNN Regresyon"
   ]
  },
  {
   "cell_type": "code",
   "execution_count": 22,
   "id": "9ad28e44",
   "metadata": {},
   "outputs": [],
   "source": [
    "KNN_model = KNeighborsRegressor().fit(x_train, y_train)"
   ]
  },
  {
   "cell_type": "code",
   "execution_count": 23,
   "id": "52e9d4f6",
   "metadata": {},
   "outputs": [
    {
     "data": {
      "text/plain": [
       "5"
      ]
     },
     "execution_count": 23,
     "metadata": {},
     "output_type": "execute_result"
    }
   ],
   "source": [
    "KNN_model.n_neighbors"
   ]
  },
  {
   "cell_type": "markdown",
   "id": "1a3d0e9b",
   "metadata": {},
   "source": [
    "k = 5 ile kurulan modelin performansına bakalım."
   ]
  },
  {
   "cell_type": "code",
   "execution_count": 24,
   "id": "d49bce89",
   "metadata": {},
   "outputs": [],
   "source": [
    "knn_fit = KNN_model.predict(x_train)"
   ]
  },
  {
   "cell_type": "code",
   "execution_count": 25,
   "id": "3eb82024",
   "metadata": {},
   "outputs": [
    {
     "name": "stdout",
     "output_type": "stream",
     "text": [
      "489736077.92521393 0.9962696019936711\n"
     ]
    }
   ],
   "source": [
    "knn5_model_train_mse = mean_squared_error(y_train, knn_fit)\n",
    "knn5_model_train_r2 = r2_score(y_train, knn_fit)\n",
    "print(knn5_model_train_mse, knn5_model_train_r2)"
   ]
  },
  {
   "cell_type": "markdown",
   "id": "e74cce54",
   "metadata": {},
   "source": [
    "k = 5 ile kurulan modelin tahmin performansına bakalım."
   ]
  },
  {
   "cell_type": "code",
   "execution_count": 26,
   "id": "8ae50330",
   "metadata": {},
   "outputs": [],
   "source": [
    "knn_predict = KNN_model.predict(x_test)"
   ]
  },
  {
   "cell_type": "code",
   "execution_count": 27,
   "id": "2e986fc6",
   "metadata": {},
   "outputs": [
    {
     "name": "stdout",
     "output_type": "stream",
     "text": [
      "2531657424.6823797 0.9962696019936711\n"
     ]
    }
   ],
   "source": [
    "knn5_model_test_mse = mean_squared_error(y_test, knn_predict)\n",
    "knn5_model_test_r2 = r2_score(y_train, knn_fit)\n",
    "print(knn5_model_test_mse, knn5_model_test_r2)"
   ]
  },
  {
   "cell_type": "markdown",
   "id": "5c05dec1",
   "metadata": {},
   "source": [
    "En iyi k değerini belirleyelim."
   ]
  },
  {
   "cell_type": "code",
   "execution_count": 28,
   "id": "3bffe9c0",
   "metadata": {},
   "outputs": [
    {
     "data": {
      "text/plain": [
       "<AxesSubplot:>"
      ]
     },
     "execution_count": 28,
     "metadata": {},
     "output_type": "execute_result"
    },
    {
     "data": {
      "image/png": "[encoded data removed]",
      "text/plain": [
       "<Figure size 432x288 with 1 Axes>"
      ]
     },
     "metadata": {
      "needs_background": "light"
     },
     "output_type": "display_data"
    }
   ],
   "source": [
    "mse = []\n",
    "r2 = []\n",
    "\n",
    "for k in range(20):\n",
    "    k = k+1\n",
    "    KNN_model = KNeighborsRegressor(n_neighbors=k).fit(x_train, y_train)\n",
    "    y_fit_k = KNN_model.predict(x_test)\n",
    "    mse.append(mean_squared_error(y_test, y_fit_k))\n",
    "    r2.append(r2_score(y_test, y_fit_k))\n",
    "    \n",
    "mse_df = pd.DataFrame(mse)\n",
    "mse_df.plot()"
   ]
  },
  {
   "cell_type": "code",
   "execution_count": 74,
   "id": "cd2755c8",
   "metadata": {},
   "outputs": [],
   "source": [
    "?KNN_model"
   ]
  },
  {
   "cell_type": "code",
   "execution_count": 29,
   "id": "feeab1e4",
   "metadata": {},
   "outputs": [
    {
     "data": {
      "text/plain": [
       "{'n_neighbors': 1}"
      ]
     },
     "execution_count": 29,
     "metadata": {},
     "output_type": "execute_result"
    }
   ],
   "source": [
    "KNN_arg = KNeighborsRegressor()\n",
    "k_params = {\"n_neighbors\":np.arange(1,80)}\n",
    "KNN_model = GridSearchCV(KNN_arg, k_params, cv = 10)\n",
    "KNN_model.fit(x_train, y_train)\n",
    "KNN_model.best_params_"
   ]
  },
  {
   "cell_type": "markdown",
   "id": "d7b56388",
   "metadata": {},
   "source": [
    "En iyi k değeri 1 olarak çıkmıştır. Şimdi k=1 olan en iyi modeli kuralım."
   ]
  },
  {
   "cell_type": "code",
   "execution_count": 30,
   "id": "3cde88a5",
   "metadata": {},
   "outputs": [],
   "source": [
    "KNN_best_model = KNeighborsRegressor(n_neighbors=1).fit(x_train, y_train)"
   ]
  },
  {
   "cell_type": "markdown",
   "id": "4d9e546c",
   "metadata": {},
   "source": [
    "En iyi k değeri(k=1) ile kurulan modelin performansına bakalım."
   ]
  },
  {
   "cell_type": "code",
   "execution_count": 31,
   "id": "4d324dec",
   "metadata": {},
   "outputs": [],
   "source": [
    "knn1_fit = KNN_best_model.predict(x_train)"
   ]
  },
  {
   "cell_type": "code",
   "execution_count": 32,
   "id": "fb4e0468",
   "metadata": {},
   "outputs": [
    {
     "name": "stdout",
     "output_type": "stream",
     "text": [
      "0.0 1.0\n"
     ]
    }
   ],
   "source": [
    "knn1_bestmodel_train_mse = mean_squared_error(y_train, knn1_fit)\n",
    "knn1_bestmodel_train_r2 = r2_score(y_train, knn1_fit)\n",
    "print(knn1_bestmodel_train_mse, knn1_bestmodel_train_r2)"
   ]
  },
  {
   "cell_type": "markdown",
   "id": "0ceece7c",
   "metadata": {},
   "source": [
    "En iyi k değeri(k=1) ile kurulan modelin tahmin performansına bakalım."
   ]
  },
  {
   "cell_type": "code",
   "execution_count": 33,
   "id": "b46ebd23",
   "metadata": {},
   "outputs": [],
   "source": [
    "knn1_pred = KNN_best_model.predict(x_test)"
   ]
  },
  {
   "cell_type": "code",
   "execution_count": 34,
   "id": "242a448d",
   "metadata": {},
   "outputs": [
    {
     "name": "stdout",
     "output_type": "stream",
     "text": [
      "186777067.36434108 0.9987020563246968\n"
     ]
    }
   ],
   "source": [
    "knn1_bestmodel_test_mse = mean_squared_error(y_test, knn1_pred)\n",
    "knn1_bestmodel_test_r2 = r2_score(y_test, knn1_pred)\n",
    "print(knn1_bestmodel_test_mse, knn1_bestmodel_test_r2)"
   ]
  },
  {
   "cell_type": "markdown",
   "id": "a7cdbc63",
   "metadata": {},
   "source": [
    "Şimdi knn için kurulan(k=5 ve k=1) 2 modelin tahmin performanslarını karşılaştıralım."
   ]
  },
  {
   "cell_type": "code",
   "execution_count": 35,
   "id": "3c3c3df4",
   "metadata": {},
   "outputs": [
    {
     "data": {
      "text/plain": [
       "True"
      ]
     },
     "execution_count": 35,
     "metadata": {},
     "output_type": "execute_result"
    }
   ],
   "source": [
    "knn5_model_test_mse > knn1_bestmodel_test_mse\n",
    "knn5_model_test_r2 < knn1_bestmodel_test_r2"
   ]
  },
  {
   "cell_type": "markdown",
   "id": "3f3e43ab",
   "metadata": {},
   "source": [
    "Görüldüğü üzere k=1 için kurulan KNN modeli hem mse değerlerine hem de r2 değerine göre daha iyi çıkmıştır."
   ]
  },
  {
   "cell_type": "markdown",
   "id": "2a778c6d",
   "metadata": {},
   "source": [
    "MAPE değerine bakalım."
   ]
  },
  {
   "cell_type": "code",
   "execution_count": 36,
   "id": "bce49eaf",
   "metadata": {},
   "outputs": [
    {
     "name": "stdout",
     "output_type": "stream",
     "text": [
      "0.002701396279470573\n"
     ]
    }
   ],
   "source": [
    "knn_model_mape = mean_absolute_percentage_error(y_test, knn1_pred)\n",
    "print(knn_model_mape)"
   ]
  },
  {
   "cell_type": "markdown",
   "id": "1cadf3ed",
   "metadata": {},
   "source": [
    "# Random Forest Regresyon"
   ]
  },
  {
   "cell_type": "code",
   "execution_count": 37,
   "id": "393c8af8",
   "metadata": {},
   "outputs": [],
   "source": [
    "rf_model = RandomForestRegressor().fit(x_train, y_train)"
   ]
  },
  {
   "cell_type": "markdown",
   "id": "f97d462e",
   "metadata": {},
   "source": [
    "Model performansımıza bakalım."
   ]
  },
  {
   "cell_type": "code",
   "execution_count": 38,
   "id": "35b1cdf3",
   "metadata": {},
   "outputs": [],
   "source": [
    "rf_fit = rf_model.predict(x_train)"
   ]
  },
  {
   "cell_type": "code",
   "execution_count": 39,
   "id": "16a4c455",
   "metadata": {},
   "outputs": [
    {
     "name": "stdout",
     "output_type": "stream",
     "text": [
      "92717455.3032321 0.9992937563189538\n"
     ]
    }
   ],
   "source": [
    "rf_model_train_mse = mean_squared_error(y_train, rf_fit)\n",
    "rf_model_train_r2 = r2_score(y_train, rf_fit)\n",
    "print(rf_model_train_mse, rf_model_train_r2)"
   ]
  },
  {
   "cell_type": "markdown",
   "id": "1058163e",
   "metadata": {},
   "source": [
    "Tahmin performansımıza bakalım."
   ]
  },
  {
   "cell_type": "code",
   "execution_count": 40,
   "id": "9e1d1dc1",
   "metadata": {},
   "outputs": [],
   "source": [
    "rf_predict = rf_model.predict(x_test)"
   ]
  },
  {
   "cell_type": "code",
   "execution_count": 41,
   "id": "87068881",
   "metadata": {},
   "outputs": [
    {
     "name": "stdout",
     "output_type": "stream",
     "text": [
      "1217729037.997623 0.9915378064052209\n"
     ]
    }
   ],
   "source": [
    "rf_model_test_mse = mean_squared_error(y_test, rf_predict)\n",
    "rf_model_test_r2 = r2_score(y_test, rf_predict)\n",
    "print(rf_model_test_mse, rf_model_test_r2)"
   ]
  },
  {
   "cell_type": "markdown",
   "id": "7c164c41",
   "metadata": {},
   "source": [
    "Modelimizi optimize edelim."
   ]
  },
  {
   "cell_type": "code",
   "execution_count": 45,
   "id": "9170a58d",
   "metadata": {},
   "outputs": [],
   "source": [
    "?rf_model"
   ]
  },
  {
   "cell_type": "code",
   "execution_count": 42,
   "id": "9ec8aaf8",
   "metadata": {},
   "outputs": [
    {
     "name": "stdout",
     "output_type": "stream",
     "text": [
      "Fitting 10 folds for each of 72 candidates, totalling 720 fits\n"
     ]
    },
    {
     "data": {
      "text/plain": [
       "GridSearchCV(cv=10, estimator=RandomForestRegressor(), n_jobs=-1,\n",
       "             param_grid={'max_depth': range(1, 10),\n",
       "                         'max_features': [2, 3, 5, 8],\n",
       "                         'n_estimators': [100, 250]},\n",
       "             verbose=2)"
      ]
     },
     "execution_count": 42,
     "metadata": {},
     "output_type": "execute_result"
    }
   ],
   "source": [
    "rf_params = {\"max_depth\" : range(1,10),\n",
    "             \"max_features\" : [2,3,5,8],\n",
    "             \"n_estimators\" : [100,250]}\n",
    "grid_rf_model = GridSearchCV(rf_model, rf_params, cv=10, n_jobs=-1,\n",
    "                            verbose=2)\n",
    "grid_rf_model.fit(x_train, y_train)"
   ]
  },
  {
   "cell_type": "code",
   "execution_count": 43,
   "id": "27f90655",
   "metadata": {},
   "outputs": [
    {
     "data": {
      "text/plain": [
       "{'max_depth': 9, 'max_features': 8, 'n_estimators': 250}"
      ]
     },
     "execution_count": 43,
     "metadata": {},
     "output_type": "execute_result"
    }
   ],
   "source": [
    "grid_rf_model.best_params_"
   ]
  },
  {
   "cell_type": "code",
   "execution_count": 44,
   "id": "0d714982",
   "metadata": {},
   "outputs": [],
   "source": [
    "best_rf_model = RandomForestRegressor(max_depth=9, max_features=8,\n",
    "                                      n_estimators=250).fit(x_train, y_train)"
   ]
  },
  {
   "cell_type": "markdown",
   "id": "60be313f",
   "metadata": {},
   "source": [
    "En iyi parametrelerle kurulan modelimizin performansına bakalım."
   ]
  },
  {
   "cell_type": "code",
   "execution_count": 45,
   "id": "a334e10b",
   "metadata": {},
   "outputs": [],
   "source": [
    "best_rf_fit = best_rf_model.predict(x_train)"
   ]
  },
  {
   "cell_type": "code",
   "execution_count": 46,
   "id": "fb07e535",
   "metadata": {},
   "outputs": [
    {
     "name": "stdout",
     "output_type": "stream",
     "text": [
      "200097242.0325482 0.9984758273151685\n"
     ]
    }
   ],
   "source": [
    "best_rf_model_train_mse = mean_squared_error(y_train, best_rf_fit)\n",
    "best_rf_model_train_r2 = r2_score(y_train, best_rf_fit)\n",
    "print(best_rf_model_train_mse, best_rf_model_train_r2)"
   ]
  },
  {
   "cell_type": "markdown",
   "id": "e57cdc82",
   "metadata": {},
   "source": [
    "En iyi parametrelerle kurulan modelimizin tahmin performansına bakalım."
   ]
  },
  {
   "cell_type": "code",
   "execution_count": 47,
   "id": "6f85bdde",
   "metadata": {},
   "outputs": [],
   "source": [
    "best_rf_predict = best_rf_model.predict(x_test)"
   ]
  },
  {
   "cell_type": "code",
   "execution_count": 48,
   "id": "7dec836e",
   "metadata": {},
   "outputs": [
    {
     "name": "stdout",
     "output_type": "stream",
     "text": [
      "2280577643.086146 0.984151901678017\n"
     ]
    }
   ],
   "source": [
    "best_rf_model_test_mse = mean_squared_error(y_test, best_rf_predict)\n",
    "best_rf_model_test_r2 = r2_score(y_test, best_rf_predict)\n",
    "print(best_rf_model_test_mse, best_rf_model_test_r2)"
   ]
  },
  {
   "cell_type": "markdown",
   "id": "d53ffad1",
   "metadata": {},
   "source": [
    "# Gradient Boosting Regresyon"
   ]
  },
  {
   "cell_type": "code",
   "execution_count": 49,
   "id": "9725123a",
   "metadata": {},
   "outputs": [],
   "source": [
    "gb_model = GradientBoostingRegressor().fit(x_train, y_train)"
   ]
  },
  {
   "cell_type": "markdown",
   "id": "877614b2",
   "metadata": {},
   "source": [
    "Model performansımıza bakalım."
   ]
  },
  {
   "cell_type": "code",
   "execution_count": 50,
   "id": "16ed148a",
   "metadata": {},
   "outputs": [],
   "source": [
    "gb_fit = gb_model.predict(x_train)"
   ]
  },
  {
   "cell_type": "code",
   "execution_count": 51,
   "id": "fdb1922c",
   "metadata": {},
   "outputs": [
    {
     "name": "stdout",
     "output_type": "stream",
     "text": [
      "11418845.02675419 0.999913020831745\n"
     ]
    }
   ],
   "source": [
    "gb_model_train_mse = mean_squared_error(y_train, gb_fit)\n",
    "gb_model_train_r2 = r2_score(y_train, gb_fit)\n",
    "print(gb_model_train_mse, gb_model_train_r2)"
   ]
  },
  {
   "cell_type": "markdown",
   "id": "15c67455",
   "metadata": {},
   "source": [
    "Tahmin performansımıza bakalım."
   ]
  },
  {
   "cell_type": "code",
   "execution_count": 52,
   "id": "e1813285",
   "metadata": {},
   "outputs": [],
   "source": [
    "gb_predict = gb_model.predict(x_test)"
   ]
  },
  {
   "cell_type": "code",
   "execution_count": 53,
   "id": "0896aaac",
   "metadata": {},
   "outputs": [
    {
     "name": "stdout",
     "output_type": "stream",
     "text": [
      "178701292.14613575 0.9987581761766441\n"
     ]
    }
   ],
   "source": [
    "gb_model_test_mse = mean_squared_error(y_test, gb_predict)\n",
    "gb_model_test_r2 = r2_score(y_test, gb_predict)\n",
    "print(gb_model_test_mse, gb_model_test_r2)"
   ]
  },
  {
   "cell_type": "markdown",
   "id": "b7317dbb",
   "metadata": {},
   "source": [
    "Modelimizi optimize edelim."
   ]
  },
  {
   "cell_type": "code",
   "execution_count": 60,
   "id": "cdc0a946",
   "metadata": {},
   "outputs": [],
   "source": [
    "?gb_model"
   ]
  },
  {
   "cell_type": "code",
   "execution_count": 54,
   "id": "2e8d578d",
   "metadata": {},
   "outputs": [],
   "source": [
    "gb_params = {\"learning_rate\" : [0.01, 0.05, 0.1],\n",
    "             \"max_depth\" : [3,5,10,15,30],\n",
    "             \"n_estimators\" : [100,200,300],\n",
    "             \"subsample\" : [1,0.5]}"
   ]
  },
  {
   "cell_type": "code",
   "execution_count": 56,
   "id": "f4eeb7a9",
   "metadata": {},
   "outputs": [
    {
     "name": "stdout",
     "output_type": "stream",
     "text": [
      "Fitting 10 folds for each of 90 candidates, totalling 900 fits\n"
     ]
    },
    {
     "name": "stderr",
     "output_type": "stream",
     "text": [
      "\n",
      "KeyboardInterrupt\n",
      "\n"
     ]
    }
   ],
   "source": [
    "grid_gb_model = GridSearchCV(gb_model, gb_params, cv=10, \n",
    "                            n_jobs=-1, verbose=2).fit(x_train, y_train)"
   ]
  },
  {
   "cell_type": "code",
   "execution_count": 63,
   "id": "71b016c0",
   "metadata": {
    "scrolled": true
   },
   "outputs": [
    {
     "data": {
      "text/plain": [
       "{'learning_rate': 0.05, 'max_depth': 3, 'n_estimators': 300, 'subsample': 1}"
      ]
     },
     "execution_count": 63,
     "metadata": {},
     "output_type": "execute_result"
    }
   ],
   "source": [
    "grid_gb_model.best_params_"
   ]
  },
  {
   "cell_type": "code",
   "execution_count": 57,
   "id": "ed155ae4",
   "metadata": {},
   "outputs": [],
   "source": [
    "best_gb_model = GradientBoostingRegressor(learning_rate=0.05,\n",
    "                                          max_depth=3,\n",
    "                                          n_estimators=300,\n",
    "                                          subsample=1).fit(x_train, y_train)"
   ]
  },
  {
   "cell_type": "markdown",
   "id": "a608cc79",
   "metadata": {},
   "source": [
    "En iyi parametrelerle kurulan modelimizin performansına bakalım."
   ]
  },
  {
   "cell_type": "code",
   "execution_count": 58,
   "id": "f3f8ad0e",
   "metadata": {},
   "outputs": [],
   "source": [
    "best_gb_model_fit = best_gb_model.predict(x_train) "
   ]
  },
  {
   "cell_type": "code",
   "execution_count": 59,
   "id": "19f5b64b",
   "metadata": {},
   "outputs": [
    {
     "name": "stdout",
     "output_type": "stream",
     "text": [
      "1950152.5212112141 0.9999851453764486\n"
     ]
    }
   ],
   "source": [
    "best_gb_model_train_mse = mean_squared_error(y_train, best_gb_model_fit)\n",
    "best_gb_model_train_r2 = r2_score(y_train, best_gb_model_fit)\n",
    "print(best_gb_model_train_mse, best_gb_model_train_r2)"
   ]
  },
  {
   "cell_type": "markdown",
   "id": "1131e39f",
   "metadata": {},
   "source": [
    "En iyi parametrelerle kurulan modelimizin tahmin performansına bakalım."
   ]
  },
  {
   "cell_type": "code",
   "execution_count": 60,
   "id": "670e8d6b",
   "metadata": {},
   "outputs": [],
   "source": [
    "best_gb_model_predict = best_gb_model.predict(x_test)"
   ]
  },
  {
   "cell_type": "code",
   "execution_count": 61,
   "id": "b738e666",
   "metadata": {},
   "outputs": [
    {
     "name": "stdout",
     "output_type": "stream",
     "text": [
      "164615592.2996599 0.9988560599548078\n"
     ]
    }
   ],
   "source": [
    "best_gb_model_test_mse = mean_squared_error(y_test, best_gb_model_predict)\n",
    "best_gb_model_test_r2 = r2_score(y_test, best_gb_model_predict)\n",
    "print(best_gb_model_test_mse, best_gb_model_test_r2)"
   ]
  },
  {
   "cell_type": "markdown",
   "id": "a55f43a8",
   "metadata": {},
   "source": [
    "# XGboost Regresyon"
   ]
  },
  {
   "cell_type": "code",
   "execution_count": 62,
   "id": "005462a7",
   "metadata": {},
   "outputs": [],
   "source": [
    "xgb_model = XGBRFRegressor().fit(x_train, y_train)"
   ]
  },
  {
   "cell_type": "markdown",
   "id": "d034c9da",
   "metadata": {},
   "source": [
    "Model performansımıza bakalım."
   ]
  },
  {
   "cell_type": "code",
   "execution_count": 63,
   "id": "248e3443",
   "metadata": {},
   "outputs": [],
   "source": [
    "xgb_fit = xgb_model.predict(x_train)"
   ]
  },
  {
   "cell_type": "code",
   "execution_count": 64,
   "id": "d3588f4a",
   "metadata": {},
   "outputs": [
    {
     "name": "stdout",
     "output_type": "stream",
     "text": [
      "100884225.93407838 0.9992315487213258\n"
     ]
    }
   ],
   "source": [
    "xgb_model_train_mse = mean_squared_error(y_train, xgb_fit)\n",
    "xgb_model_train_r2 = r2_score(y_train, xgb_fit)\n",
    "print(xgb_model_train_mse, xgb_model_train_r2)"
   ]
  },
  {
   "cell_type": "markdown",
   "id": "4600f012",
   "metadata": {},
   "source": [
    "Modelimizin tahmin performansına bakalım."
   ]
  },
  {
   "cell_type": "code",
   "execution_count": 65,
   "id": "d248fba4",
   "metadata": {},
   "outputs": [],
   "source": [
    "xgb_predict = xgb_model.predict(x_test)"
   ]
  },
  {
   "cell_type": "code",
   "execution_count": 66,
   "id": "4f49ad82",
   "metadata": {},
   "outputs": [
    {
     "name": "stdout",
     "output_type": "stream",
     "text": [
      "1387543801.415325 0.9903577364894577\n"
     ]
    }
   ],
   "source": [
    "xgb_model_test_mse = mean_squared_error(y_test, xgb_predict)\n",
    "xgb_model_test_r2 = r2_score(y_test, xgb_predict)\n",
    "print(xgb_model_test_mse, xgb_model_test_r2)"
   ]
  },
  {
   "cell_type": "markdown",
   "id": "c1886a70",
   "metadata": {},
   "source": [
    "Modelimizi optimize edelim."
   ]
  },
  {
   "cell_type": "code",
   "execution_count": 75,
   "id": "0bc7fe19",
   "metadata": {},
   "outputs": [],
   "source": [
    "?xgb_model"
   ]
  },
  {
   "cell_type": "code",
   "execution_count": 77,
   "id": "ebf678b5",
   "metadata": {},
   "outputs": [
    {
     "name": "stdout",
     "output_type": "stream",
     "text": [
      "Fitting 10 folds for each of 225 candidates, totalling 2250 fits\n"
     ]
    }
   ],
   "source": [
    "xgb_params = {\"colsample_bytree\" : [0.1,0.5,1,2,4],\n",
    "              \"n_estimators\" : [100,200,400,800,1600],\n",
    "              \"max_depth\" : [2,3,4],\n",
    "              \"learning_rate\" : [0.1,0.5,0.8]}\n",
    "grid_xgb_model = GridSearchCV(xgb_model, xgb_params, cv=10,\n",
    "                              n_jobs=-1, verbose=2).fit(x_train, y_train)"
   ]
  },
  {
   "cell_type": "code",
   "execution_count": 78,
   "id": "3395e854",
   "metadata": {},
   "outputs": [
    {
     "data": {
      "text/plain": [
       "{'colsample_bytree': 1,\n",
       " 'learning_rate': 0.8,\n",
       " 'max_depth': 4,\n",
       " 'n_estimators': 1600}"
      ]
     },
     "execution_count": 78,
     "metadata": {},
     "output_type": "execute_result"
    }
   ],
   "source": [
    "grid_xgb_model.best_params_"
   ]
  },
  {
   "cell_type": "code",
   "execution_count": 67,
   "id": "04084285",
   "metadata": {},
   "outputs": [],
   "source": [
    "best_xgb_model = XGBRFRegressor(colsample_bytree=1,\n",
    "                                learning_rate=0.8, max_depth=4,\n",
    "                                n_estimators=1600).fit(x_train, y_train)"
   ]
  },
  {
   "cell_type": "markdown",
   "id": "cee56577",
   "metadata": {},
   "source": [
    "En iyi parametrelerle kurulan modelimizin performansına bakalım."
   ]
  },
  {
   "cell_type": "code",
   "execution_count": 68,
   "id": "1792c80f",
   "metadata": {},
   "outputs": [],
   "source": [
    "best_xgb_model_fit = best_xgb_model.predict(x_train)"
   ]
  },
  {
   "cell_type": "code",
   "execution_count": 69,
   "id": "4443f6f8",
   "metadata": {},
   "outputs": [
    {
     "name": "stdout",
     "output_type": "stream",
     "text": [
      "19129317761.643932 0.8542889281451613\n"
     ]
    }
   ],
   "source": [
    "best_xgb_model_train_mse = mean_squared_error(y_train, best_xgb_model_fit)\n",
    "best_xgb_model_train_r2 = r2_score(y_train, best_xgb_model_fit)\n",
    "print(best_xgb_model_train_mse, best_xgb_model_train_r2)"
   ]
  },
  {
   "cell_type": "markdown",
   "id": "7547503f",
   "metadata": {},
   "source": [
    "En iyi parametrelerle kurulan modelimizin tahmin performansına bakalım."
   ]
  },
  {
   "cell_type": "code",
   "execution_count": 70,
   "id": "cad6ab9c",
   "metadata": {},
   "outputs": [],
   "source": [
    "best_xgb_model_predict = best_xgb_model.predict(x_test)"
   ]
  },
  {
   "cell_type": "code",
   "execution_count": 71,
   "id": "0adf8d94",
   "metadata": {},
   "outputs": [
    {
     "name": "stdout",
     "output_type": "stream",
     "text": [
      "22397850812.81934 0.8443537570585322\n"
     ]
    }
   ],
   "source": [
    "best_xgb_model_test_mse = mean_squared_error(y_test, best_xgb_model_predict)\n",
    "best_xgb_model_test_r2 = r2_score(y_test, best_xgb_model_predict)\n",
    "print(best_xgb_model_test_mse, best_xgb_model_test_r2)"
   ]
  },
  {
   "cell_type": "markdown",
   "id": "47744b06",
   "metadata": {},
   "source": [
    "# Decision Tree Regresyon"
   ]
  },
  {
   "cell_type": "code",
   "execution_count": 72,
   "id": "1e999ff4",
   "metadata": {},
   "outputs": [],
   "source": [
    "dt_model = DecisionTreeRegressor().fit(x_train, y_train)"
   ]
  },
  {
   "cell_type": "markdown",
   "id": "9b64464c",
   "metadata": {},
   "source": [
    "Modelimizin performansına bakalım."
   ]
  },
  {
   "cell_type": "code",
   "execution_count": 73,
   "id": "620de060",
   "metadata": {},
   "outputs": [],
   "source": [
    "dt_model_fit = dt_model.predict(x_train)"
   ]
  },
  {
   "cell_type": "code",
   "execution_count": 74,
   "id": "4fb5902d",
   "metadata": {},
   "outputs": [
    {
     "name": "stdout",
     "output_type": "stream",
     "text": [
      "0.0 1.0\n"
     ]
    }
   ],
   "source": [
    "dt_model_train_mse = mean_squared_error(y_train, dt_model_fit)\n",
    "dt_model_train_r2 = r2_score(y_train, dt_model_fit)\n",
    "print(dt_model_train_mse, dt_model_train_r2)"
   ]
  },
  {
   "cell_type": "markdown",
   "id": "d9979f7b",
   "metadata": {},
   "source": [
    "Modelimizin tahmin performansına bakalım."
   ]
  },
  {
   "cell_type": "code",
   "execution_count": 75,
   "id": "9b24b557",
   "metadata": {},
   "outputs": [],
   "source": [
    "dt_model_predict = dt_model.predict(x_test)"
   ]
  },
  {
   "cell_type": "code",
   "execution_count": 76,
   "id": "651ba518",
   "metadata": {},
   "outputs": [
    {
     "name": "stdout",
     "output_type": "stream",
     "text": [
      "328598693.8974008 0.9977165151885318\n"
     ]
    }
   ],
   "source": [
    "dt_model_test_mse = mean_squared_error(y_test, dt_model_predict)\n",
    "dt_model_test_r2 = r2_score(y_test, dt_model_predict)\n",
    "print(dt_model_test_mse, dt_model_test_r2)"
   ]
  },
  {
   "cell_type": "markdown",
   "id": "f39e56ff",
   "metadata": {},
   "source": [
    "Modelimizi optimize edelim."
   ]
  },
  {
   "cell_type": "code",
   "execution_count": 89,
   "id": "905c5ae2",
   "metadata": {},
   "outputs": [],
   "source": [
    "?dt_model"
   ]
  },
  {
   "cell_type": "code",
   "execution_count": 90,
   "id": "30d72fed",
   "metadata": {},
   "outputs": [
    {
     "name": "stdout",
     "output_type": "stream",
     "text": [
      "Fitting 10 folds for each of 15444 candidates, totalling 154440 fits\n"
     ]
    }
   ],
   "source": [
    "dt_params = {\"min_samples_split\" : range(2,200),\n",
    "             \"max_leaf_nodes\" : range(2,80)}\n",
    "grid_dt_model = GridSearchCV(dt_model, dt_params, cv=10,\n",
    "                             n_jobs=-1, verbose=2).fit(x_train, y_train)"
   ]
  },
  {
   "cell_type": "code",
   "execution_count": 91,
   "id": "41abfff1",
   "metadata": {},
   "outputs": [
    {
     "data": {
      "text/plain": [
       "{'max_leaf_nodes': 72, 'min_samples_split': 2}"
      ]
     },
     "execution_count": 91,
     "metadata": {},
     "output_type": "execute_result"
    }
   ],
   "source": [
    "grid_dt_model.best_params_"
   ]
  },
  {
   "cell_type": "code",
   "execution_count": 77,
   "id": "e2168124",
   "metadata": {},
   "outputs": [],
   "source": [
    "best_dt_model = DecisionTreeRegressor(max_leaf_nodes=72,\n",
    "                                      min_samples_split=2).fit(x_train,\n",
    "                                                               y_train)"
   ]
  },
  {
   "cell_type": "markdown",
   "id": "2f99cb4b",
   "metadata": {},
   "source": [
    "En iyi parametrelerle kurulan modelimizin performansına bakalım."
   ]
  },
  {
   "cell_type": "code",
   "execution_count": 78,
   "id": "0a9ff2a5",
   "metadata": {},
   "outputs": [],
   "source": [
    "best_dt_model_fit = best_dt_model.predict(x_train)"
   ]
  },
  {
   "cell_type": "code",
   "execution_count": 79,
   "id": "78dc58c5",
   "metadata": {},
   "outputs": [
    {
     "name": "stdout",
     "output_type": "stream",
     "text": [
      "61040067.99334941 0.9995350480427881\n"
     ]
    }
   ],
   "source": [
    "best_dt_model_train_mse = mean_squared_error(y_train, best_dt_model_fit)\n",
    "best_dt_model_train_r2 = r2_score(y_train, best_dt_model_fit)\n",
    "print(best_dt_model_train_mse, best_dt_model_train_r2)"
   ]
  },
  {
   "cell_type": "markdown",
   "id": "5e66ab0e",
   "metadata": {},
   "source": [
    "En iyi parametrelerle kurulan modelimizin tahmin performansına bakalım."
   ]
  },
  {
   "cell_type": "code",
   "execution_count": 80,
   "id": "083c0c0a",
   "metadata": {},
   "outputs": [],
   "source": [
    "best_dt_model_predict = best_dt_model.predict(x_test)"
   ]
  },
  {
   "cell_type": "code",
   "execution_count": 81,
   "id": "94e8c2fc",
   "metadata": {},
   "outputs": [
    {
     "name": "stdout",
     "output_type": "stream",
     "text": [
      "397020758.2417261 0.9972410393342415\n"
     ]
    }
   ],
   "source": [
    "best_dt_model_test_mse = mean_squared_error(y_test, best_dt_model_predict)\n",
    "best_dt_model_test_r2 = r2_score(y_test, best_dt_model_predict)\n",
    "print(best_dt_model_test_mse, best_dt_model_test_r2)"
   ]
  },
  {
   "cell_type": "markdown",
   "id": "cd52a0e8",
   "metadata": {},
   "source": [
    "# MLP Regresyon"
   ]
  },
  {
   "cell_type": "markdown",
   "id": "4ee29123",
   "metadata": {},
   "source": [
    "Bunun için öncelikle standartlaştırma uygulayalım."
   ]
  },
  {
   "cell_type": "code",
   "execution_count": 83,
   "id": "d7ae6f36",
   "metadata": {},
   "outputs": [],
   "source": [
    "scl = StandardScaler()"
   ]
  },
  {
   "cell_type": "code",
   "execution_count": 84,
   "id": "1826bef6",
   "metadata": {},
   "outputs": [
    {
     "data": {
      "text/plain": [
       "StandardScaler()"
      ]
     },
     "execution_count": 84,
     "metadata": {},
     "output_type": "execute_result"
    }
   ],
   "source": [
    "scl.fit(x_train)"
   ]
  },
  {
   "cell_type": "code",
   "execution_count": 85,
   "id": "a1c549c8",
   "metadata": {},
   "outputs": [],
   "source": [
    "x_train_scl = scl.transform(x_train)\n",
    "x_test_scl = scl.transform(x_test)"
   ]
  },
  {
   "cell_type": "code",
   "execution_count": 86,
   "id": "f0d35965",
   "metadata": {},
   "outputs": [],
   "source": [
    "ann_model = MLPRegressor().fit(x_train_scl, y_train)"
   ]
  },
  {
   "cell_type": "code",
   "execution_count": 87,
   "id": "18ec6a77",
   "metadata": {},
   "outputs": [
    {
     "data": {
      "text/plain": [
       "3"
      ]
     },
     "execution_count": 87,
     "metadata": {},
     "output_type": "execute_result"
    }
   ],
   "source": [
    "ann_model.n_layers_"
   ]
  },
  {
   "cell_type": "code",
   "execution_count": 90,
   "id": "4f58f607",
   "metadata": {},
   "outputs": [
    {
     "data": {
      "text/plain": [
       "(100,)"
      ]
     },
     "execution_count": 90,
     "metadata": {},
     "output_type": "execute_result"
    }
   ],
   "source": [
    "ann_model.hidden_layer_sizes"
   ]
  },
  {
   "cell_type": "markdown",
   "id": "c2ea9cc9",
   "metadata": {},
   "source": [
    "Modelimizin performansına bakalım."
   ]
  },
  {
   "cell_type": "code",
   "execution_count": 91,
   "id": "9a99c838",
   "metadata": {},
   "outputs": [],
   "source": [
    "ann_model_fit = ann_model.predict(x_train_scl)"
   ]
  },
  {
   "cell_type": "code",
   "execution_count": 92,
   "id": "031c72ed",
   "metadata": {},
   "outputs": [
    {
     "name": "stdout",
     "output_type": "stream",
     "text": [
      "359640085021.52466 -1.7394360281643544\n"
     ]
    }
   ],
   "source": [
    "ann_model_train_mse = mean_squared_error(y_train, ann_model_fit)\n",
    "ann_model_train_r2 = r2_score(y_train, ann_model_fit)\n",
    "print(ann_model_train_mse, ann_model_train_r2)"
   ]
  },
  {
   "cell_type": "markdown",
   "id": "1219440e",
   "metadata": {},
   "source": [
    "Modelimizin tahmin performansına bakalım."
   ]
  },
  {
   "cell_type": "code",
   "execution_count": 93,
   "id": "608bb2a8",
   "metadata": {},
   "outputs": [],
   "source": [
    "ann_model_predict = ann_model.predict(x_test_scl)"
   ]
  },
  {
   "cell_type": "code",
   "execution_count": 94,
   "id": "179e68c9",
   "metadata": {},
   "outputs": [
    {
     "name": "stdout",
     "output_type": "stream",
     "text": [
      "368284008556.1938 -1.5592644020285582\n"
     ]
    }
   ],
   "source": [
    "ann_model_test_mse = mean_squared_error(y_test, ann_model_predict)\n",
    "ann_model_test_r2 = r2_score(y_test, ann_model_predict)\n",
    "print(ann_model_test_mse, ann_model_test_r2)"
   ]
  },
  {
   "cell_type": "code",
   "execution_count": 96,
   "id": "25ab9ff1",
   "metadata": {},
   "outputs": [
    {
     "name": "stdout",
     "output_type": "stream",
     "text": [
      "Fitting 5 folds for each of 30 candidates, totalling 150 fits\n"
     ]
    }
   ],
   "source": [
    "ann_params = {\"alpha\" : [0.5,0.3,0.1,0.01,0.005],\n",
    "              \"hidden_layer_sizes\" : [(20,20),(100,50,150),(300,200,100)],\n",
    "              \"activation\" : [\"relu\", \"logistic\"]}\n",
    "grid_ann_model = GridSearchCV(ann_model, ann_params, \n",
    "                              cv=5, n_jobs=-1, verbose=2).fit(x_train, y_train)"
   ]
  },
  {
   "cell_type": "code",
   "execution_count": 97,
   "id": "2c798ab8",
   "metadata": {},
   "outputs": [
    {
     "data": {
      "text/plain": [
       "{'activation': 'relu', 'alpha': 0.1, 'hidden_layer_sizes': (20, 20)}"
      ]
     },
     "execution_count": 97,
     "metadata": {},
     "output_type": "execute_result"
    }
   ],
   "source": [
    "grid_ann_model.best_params_"
   ]
  },
  {
   "cell_type": "code",
   "execution_count": 102,
   "id": "45c96982",
   "metadata": {},
   "outputs": [],
   "source": [
    "best_ann_model = MLPRegressor(activation=\"relu\", alpha=0.1,\n",
    "                              hidden_layer_sizes=(20,20)).fit(x_train_scl, y_train)"
   ]
  },
  {
   "cell_type": "markdown",
   "id": "75ab844d",
   "metadata": {},
   "source": [
    "En iyi parametrelerle kurulan modelimizin performansına bakalım."
   ]
  },
  {
   "cell_type": "code",
   "execution_count": 103,
   "id": "157d623e",
   "metadata": {},
   "outputs": [],
   "source": [
    "best_ann_model_fit = best_ann_model.predict(x_train_scl)"
   ]
  },
  {
   "cell_type": "code",
   "execution_count": 104,
   "id": "295586de",
   "metadata": {},
   "outputs": [
    {
     "name": "stdout",
     "output_type": "stream",
     "text": [
      "35011369102.706436 0.7333128038005721\n"
     ]
    }
   ],
   "source": [
    "best_ann_model_train_mse = mean_squared_error(y_train, best_ann_model_fit)\n",
    "best_ann_model_train_r2 = r2_score(y_train, best_ann_model_fit)\n",
    "print(best_ann_model_train_mse, best_ann_model_train_r2)"
   ]
  },
  {
   "cell_type": "markdown",
   "id": "df9ca4e1",
   "metadata": {},
   "source": [
    "En iyi parametrelerle kurulan modelimizin tahmin performansına bakalım."
   ]
  },
  {
   "cell_type": "code",
   "execution_count": 105,
   "id": "cb511f34",
   "metadata": {},
   "outputs": [],
   "source": [
    "best_ann_model_predict = best_ann_model.predict(x_test_scl)"
   ]
  },
  {
   "cell_type": "code",
   "execution_count": 106,
   "id": "4db0e50a",
   "metadata": {
    "scrolled": true
   },
   "outputs": [
    {
     "name": "stdout",
     "output_type": "stream",
     "text": [
      "33760536840.19575 0.7653926368749644\n"
     ]
    }
   ],
   "source": [
    "best_ann_model_test_mse = mean_squared_error(y_test, best_ann_model_predict)\n",
    "best_ann_model_test_r2 = r2_score(y_test, best_ann_model_predict)\n",
    "print(best_ann_model_test_mse, best_ann_model_test_r2)"
   ]
  },
  {
   "cell_type": "markdown",
   "id": "39a47407",
   "metadata": {},
   "source": [
    "Kurulan bu modellerden hangisi ya da hangileri daha iyi görmek isterse :"
   ]
  },
  {
   "cell_type": "code",
   "execution_count": 107,
   "id": "3e3724d8",
   "metadata": {},
   "outputs": [
    {
     "data": {
      "text/html": [
       "<div>\n",
       "<style scoped>\n",
       "    .dataframe tbody tr th:only-of-type {\n",
       "        vertical-align: middle;\n",
       "    }\n",
       "\n",
       "    .dataframe tbody tr th {\n",
       "        vertical-align: top;\n",
       "    }\n",
       "\n",
       "    .dataframe thead th {\n",
       "        text-align: right;\n",
       "    }\n",
       "</style>\n",
       "<table border=\"1\" class=\"dataframe\">\n",
       "  <thead>\n",
       "    <tr style=\"text-align: right;\">\n",
       "      <th></th>\n",
       "      <th>Regresyon Modelleri</th>\n",
       "      <th>r2 Score</th>\n",
       "    </tr>\n",
       "  </thead>\n",
       "  <tbody>\n",
       "    <tr>\n",
       "      <th>1</th>\n",
       "      <td>Çoklu Lineer Regresyon</td>\n",
       "      <td>1.000000</td>\n",
       "    </tr>\n",
       "    <tr>\n",
       "      <th>7</th>\n",
       "      <td>Gradient Boosting Regresyon(best params)</td>\n",
       "      <td>0.998856</td>\n",
       "    </tr>\n",
       "    <tr>\n",
       "      <th>6</th>\n",
       "      <td>Gradient Boosting Regresyon</td>\n",
       "      <td>0.998758</td>\n",
       "    </tr>\n",
       "    <tr>\n",
       "      <th>3</th>\n",
       "      <td>KNN Regresyon(best params)</td>\n",
       "      <td>0.998702</td>\n",
       "    </tr>\n",
       "    <tr>\n",
       "      <th>10</th>\n",
       "      <td>Decision Tree Regresyon</td>\n",
       "      <td>0.997717</td>\n",
       "    </tr>\n",
       "    <tr>\n",
       "      <th>11</th>\n",
       "      <td>Decision Tree Regresyon(best params)</td>\n",
       "      <td>0.997241</td>\n",
       "    </tr>\n",
       "    <tr>\n",
       "      <th>2</th>\n",
       "      <td>KNN Regresyon</td>\n",
       "      <td>0.996270</td>\n",
       "    </tr>\n",
       "    <tr>\n",
       "      <th>4</th>\n",
       "      <td>Random Forest Regresyon</td>\n",
       "      <td>0.991538</td>\n",
       "    </tr>\n",
       "    <tr>\n",
       "      <th>8</th>\n",
       "      <td>XGboost Regresyon</td>\n",
       "      <td>0.990358</td>\n",
       "    </tr>\n",
       "    <tr>\n",
       "      <th>5</th>\n",
       "      <td>Random Forest Regresyon(best params)</td>\n",
       "      <td>0.984152</td>\n",
       "    </tr>\n",
       "    <tr>\n",
       "      <th>9</th>\n",
       "      <td>XGboost Regresyon(best params)</td>\n",
       "      <td>0.844354</td>\n",
       "    </tr>\n",
       "    <tr>\n",
       "      <th>13</th>\n",
       "      <td>MLP Regresyon(best params)</td>\n",
       "      <td>0.765393</td>\n",
       "    </tr>\n",
       "    <tr>\n",
       "      <th>0</th>\n",
       "      <td>Lineer Regresyon</td>\n",
       "      <td>0.507185</td>\n",
       "    </tr>\n",
       "    <tr>\n",
       "      <th>12</th>\n",
       "      <td>MLP Regresyon</td>\n",
       "      <td>-1.559264</td>\n",
       "    </tr>\n",
       "  </tbody>\n",
       "</table>\n",
       "</div>"
      ],
      "text/plain": [
       "                         Regresyon Modelleri  r2 Score\n",
       "1                     Çoklu Lineer Regresyon  1.000000\n",
       "7   Gradient Boosting Regresyon(best params)  0.998856\n",
       "6                Gradient Boosting Regresyon  0.998758\n",
       "3                 KNN Regresyon(best params)  0.998702\n",
       "10                   Decision Tree Regresyon  0.997717\n",
       "11      Decision Tree Regresyon(best params)  0.997241\n",
       "2                              KNN Regresyon  0.996270\n",
       "4                    Random Forest Regresyon  0.991538\n",
       "8                          XGboost Regresyon  0.990358\n",
       "5       Random Forest Regresyon(best params)  0.984152\n",
       "9             XGboost Regresyon(best params)  0.844354\n",
       "13                MLP Regresyon(best params)  0.765393\n",
       "0                           Lineer Regresyon  0.507185\n",
       "12                             MLP Regresyon -1.559264"
      ]
     },
     "execution_count": 107,
     "metadata": {},
     "output_type": "execute_result"
    }
   ],
   "source": [
    "models = pd.DataFrame({\n",
    "    \"Regresyon Modelleri\" : [\"Lineer Regresyon\", \"Çoklu Lineer Regresyon\",\n",
    "                             \"KNN Regresyon\", \"KNN Regresyon(best params)\",\n",
    "                             \"Random Forest Regresyon\",\n",
    "                             \"Random Forest Regresyon(best params)\",\n",
    "                             \"Gradient Boosting Regresyon\",\n",
    "                             \"Gradient Boosting Regresyon(best params)\",\n",
    "                             \"XGboost Regresyon\",\n",
    "                             \"XGboost Regresyon(best params)\",\n",
    "                             \"Decision Tree Regresyon\",\n",
    "                             \"Decision Tree Regresyon(best params)\",\n",
    "                             \"MLP Regresyon\",\n",
    "                             \"MLP Regresyon(best params)\"],\n",
    "     \"r2 Score\" : [lineer_model_r2, coklu_lineer_model_test_r2,\n",
    "                   knn5_model_test_r2, knn1_bestmodel_test_r2,\n",
    "                   rf_model_test_r2, best_rf_model_test_r2,\n",
    "                   gb_model_test_r2, best_gb_model_test_r2,\n",
    "                   xgb_model_test_r2, best_xgb_model_test_r2,\n",
    "                   dt_model_test_r2, best_dt_model_test_r2,\n",
    "                   ann_model_test_r2, best_ann_model_test_r2]\n",
    "})\n",
    "\n",
    "models.sort_values(by = \"r2 Score\", ascending = False)"
   ]
  },
  {
   "cell_type": "code",
   "execution_count": 112,
   "id": "9bc51748",
   "metadata": {},
   "outputs": [
    {
     "data": {
      "text/html": [
       "<div>\n",
       "<style scoped>\n",
       "    .dataframe tbody tr th:only-of-type {\n",
       "        vertical-align: middle;\n",
       "    }\n",
       "\n",
       "    .dataframe tbody tr th {\n",
       "        vertical-align: top;\n",
       "    }\n",
       "\n",
       "    .dataframe thead th {\n",
       "        text-align: right;\n",
       "    }\n",
       "</style>\n",
       "<table border=\"1\" class=\"dataframe\">\n",
       "  <thead>\n",
       "    <tr style=\"text-align: right;\">\n",
       "      <th></th>\n",
       "      <th>Regresyon Modelleri</th>\n",
       "      <th>MSE</th>\n",
       "    </tr>\n",
       "  </thead>\n",
       "  <tbody>\n",
       "    <tr>\n",
       "      <th>1</th>\n",
       "      <td>Çoklu Lineer Regresyon</td>\n",
       "      <td>2.820682e-20</td>\n",
       "    </tr>\n",
       "    <tr>\n",
       "      <th>7</th>\n",
       "      <td>Gradient Boosting Regresyon(best params)</td>\n",
       "      <td>1.646156e+08</td>\n",
       "    </tr>\n",
       "    <tr>\n",
       "      <th>6</th>\n",
       "      <td>Gradient Boosting Regresyon</td>\n",
       "      <td>1.787013e+08</td>\n",
       "    </tr>\n",
       "    <tr>\n",
       "      <th>3</th>\n",
       "      <td>KNN Regresyon(best params)</td>\n",
       "      <td>1.867771e+08</td>\n",
       "    </tr>\n",
       "    <tr>\n",
       "      <th>10</th>\n",
       "      <td>Decision Tree Regresyon</td>\n",
       "      <td>3.285987e+08</td>\n",
       "    </tr>\n",
       "    <tr>\n",
       "      <th>11</th>\n",
       "      <td>Decision Tree Regresyon(best params)</td>\n",
       "      <td>3.970208e+08</td>\n",
       "    </tr>\n",
       "    <tr>\n",
       "      <th>4</th>\n",
       "      <td>Random Forest Regresyon</td>\n",
       "      <td>1.217729e+09</td>\n",
       "    </tr>\n",
       "    <tr>\n",
       "      <th>8</th>\n",
       "      <td>XGboost Regresyon</td>\n",
       "      <td>1.387544e+09</td>\n",
       "    </tr>\n",
       "    <tr>\n",
       "      <th>5</th>\n",
       "      <td>Random Forest Regresyon(best params)</td>\n",
       "      <td>2.280578e+09</td>\n",
       "    </tr>\n",
       "    <tr>\n",
       "      <th>2</th>\n",
       "      <td>KNN Regresyon</td>\n",
       "      <td>2.531657e+09</td>\n",
       "    </tr>\n",
       "    <tr>\n",
       "      <th>9</th>\n",
       "      <td>XGboost Regresyon(best params)</td>\n",
       "      <td>2.239785e+10</td>\n",
       "    </tr>\n",
       "    <tr>\n",
       "      <th>13</th>\n",
       "      <td>MLP Regresyon(best params)</td>\n",
       "      <td>3.376054e+10</td>\n",
       "    </tr>\n",
       "    <tr>\n",
       "      <th>0</th>\n",
       "      <td>Lineer Regresyon</td>\n",
       "      <td>6.656487e+10</td>\n",
       "    </tr>\n",
       "    <tr>\n",
       "      <th>12</th>\n",
       "      <td>MLP Regresyon</td>\n",
       "      <td>3.682840e+11</td>\n",
       "    </tr>\n",
       "  </tbody>\n",
       "</table>\n",
       "</div>"
      ],
      "text/plain": [
       "                         Regresyon Modelleri           MSE\n",
       "1                     Çoklu Lineer Regresyon  2.820682e-20\n",
       "7   Gradient Boosting Regresyon(best params)  1.646156e+08\n",
       "6                Gradient Boosting Regresyon  1.787013e+08\n",
       "3                 KNN Regresyon(best params)  1.867771e+08\n",
       "10                   Decision Tree Regresyon  3.285987e+08\n",
       "11      Decision Tree Regresyon(best params)  3.970208e+08\n",
       "4                    Random Forest Regresyon  1.217729e+09\n",
       "8                          XGboost Regresyon  1.387544e+09\n",
       "5       Random Forest Regresyon(best params)  2.280578e+09\n",
       "2                              KNN Regresyon  2.531657e+09\n",
       "9             XGboost Regresyon(best params)  2.239785e+10\n",
       "13                MLP Regresyon(best params)  3.376054e+10\n",
       "0                           Lineer Regresyon  6.656487e+10\n",
       "12                             MLP Regresyon  3.682840e+11"
      ]
     },
     "execution_count": 112,
     "metadata": {},
     "output_type": "execute_result"
    }
   ],
   "source": [
    "models2 = pd.DataFrame({\n",
    "    \"Regresyon Modelleri\" : [\"Lineer Regresyon\", \"Çoklu Lineer Regresyon\",\n",
    "                             \"KNN Regresyon\", \"KNN Regresyon(best params)\",\n",
    "                             \"Random Forest Regresyon\",\n",
    "                             \"Random Forest Regresyon(best params)\",\n",
    "                             \"Gradient Boosting Regresyon\",\n",
    "                             \"Gradient Boosting Regresyon(best params)\",\n",
    "                             \"XGboost Regresyon\",\n",
    "                             \"XGboost Regresyon(best params)\",\n",
    "                             \"Decision Tree Regresyon\",\n",
    "                             \"Decision Tree Regresyon(best params)\",\n",
    "                             \"MLP Regresyon\",\n",
    "                             \"MLP Regresyon(best params)\"],\n",
    "     \"MSE\" : [lineer_model_mse, coklu_lineer_model_test_mse,\n",
    "                   knn5_model_test_mse, knn1_bestmodel_test_mse,\n",
    "                   rf_model_test_mse, best_rf_model_test_mse,\n",
    "                   gb_model_test_mse, best_gb_model_test_mse,\n",
    "                   xgb_model_test_mse, best_xgb_model_test_mse,\n",
    "                   dt_model_test_mse, best_dt_model_test_mse,\n",
    "                   ann_model_test_mse, best_ann_model_test_mse]\n",
    "})\n",
    "\n",
    "models2.sort_values(by = \"MSE\", ascending = True)"
   ]
  },
  {
   "cell_type": "markdown",
   "id": "8830f641",
   "metadata": {},
   "source": [
    "Bu tablolara göre çıkarımlar yapmak mümkündür. Elimizdeki veriye hangi regresyon modeli daha uygunsa seçebilir ve bu regresyon modeline göre işlemler uygulayabiliriz."
   ]
  },
  {
   "cell_type": "code",
   "execution_count": null,
   "id": "e65f2e26",
   "metadata": {},
   "outputs": [],
   "source": []
  }
 ],
 "metadata": {
  "kernelspec": {
   "display_name": "Python 3 (ipykernel)",
   "language": "python",
   "name": "python3"
  },
  "language_info": {
   "codemirror_mode": {
    "name": "ipython",
    "version": 3
   },
   "file_extension": ".py",
   "mimetype": "text/x-python",
   "name": "python",
   "nbconvert_exporter": "python",
   "pygments_lexer": "ipython3",
   "version": "3.9.12"
  }
 },
 "nbformat": 4,
 "nbformat_minor": 5
}
